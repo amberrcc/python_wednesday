{
  "metadata": {
    "kernelspec": {
      "name": "python",
      "display_name": "Python (Pyodide)",
      "language": "python"
    },
    "language_info": {
      "codemirror_mode": {
        "name": "python",
        "version": 3
      },
      "file_extension": ".py",
      "mimetype": "text/x-python",
      "name": "python",
      "nbconvert_exporter": "python",
      "pygments_lexer": "ipython3",
      "version": "3.8"
    },
    "colab": {
      "provenance": [],
      "include_colab_link": true
    }
  },
  "nbformat_minor": 0,
  "nbformat": 4,
  "cells": [
    {
      "cell_type": "markdown",
      "metadata": {
        "id": "view-in-github",
        "colab_type": "text"
      },
      "source": [
        "<a href=\"https://colab.research.google.com/github/amberrcc/python_wednesday/blob/main/0306.ipynb\" target=\"_parent\"><img src=\"https://colab.research.google.com/assets/colab-badge.svg\" alt=\"Open In Colab\"/></a>"
      ]
    },
    {
      "cell_type": "code",
      "source": [
        "print( \"soy Patri\" )"
      ],
      "metadata": {
        "trusted": true,
        "id": "D2_dLv0aRhWy",
        "outputId": "5aaf3f7e-59c2-47a5-9afd-864ec77ea050"
      },
      "outputs": [
        {
          "name": "stdout",
          "text": "soy Patri\n",
          "output_type": "stream"
        }
      ],
      "execution_count": null
    },
    {
      "cell_type": "code",
      "source": [
        "num1 = 123\n",
        "num2 = 456\n",
        "num3 = num1 + num2\n",
        "print(num3)"
      ],
      "metadata": {
        "trusted": true,
        "id": "s3r_dc-aRhW0",
        "outputId": "8e56aeaa-dffe-46b3-8166-35ba54625901"
      },
      "outputs": [
        {
          "name": "stdout",
          "text": "579\n",
          "output_type": "stream"
        }
      ],
      "execution_count": null
    },
    {
      "cell_type": "code",
      "source": [
        "numstr1 = \"123\"\n",
        "numstr2 = \"456\"\n",
        "numstr3 = numstr1 + \" \" + numstr2\n",
        "print( numstr3)"
      ],
      "metadata": {
        "trusted": true,
        "id": "i9wNiitQRhW1",
        "outputId": "962e0a81-6e9e-4153-e76a-d30a7fef3f93"
      },
      "outputs": [
        {
          "name": "stdout",
          "text": "123 456\n",
          "output_type": "stream"
        }
      ],
      "execution_count": null
    },
    {
      "cell_type": "code",
      "source": [
        "str1 = \"ColdStone\"\n",
        "str2 = \"Quefrioooo\"\n",
        "str3 = str1 + str2\n",
        "print( str3 )"
      ],
      "metadata": {
        "trusted": true,
        "id": "oa2igPf-RhW1",
        "outputId": "aa9afa7d-5a7f-48c9-a568-ed5dc549e590"
      },
      "outputs": [
        {
          "name": "stdout",
          "text": "ColdStoneQuefrioooo\n",
          "output_type": "stream"
        }
      ],
      "execution_count": null
    },
    {
      "cell_type": "markdown",
      "source": [
        ":三個單引號表一字串 eg: '''soy una chica '''\n",
        "eg: '''soy una chica\\nhola hola '''"
      ],
      "metadata": {
        "id": "85T7Wy_YRhW2"
      }
    },
    {
      "cell_type": "code",
      "source": [
        "str4 = '''soy una chica '''\n",
        "print( str4 )\n",
        "str5 = \"soy una chica\"  \" hola hola \"\n",
        "print( str5 )\n",
        "str6 = \"soy una chica \\nhola hola \"\n",
        "print(str6)\n"
      ],
      "metadata": {
        "trusted": true,
        "colab": {
          "base_uri": "https://localhost:8080/"
        },
        "id": "ZBTC-E3nRhW3",
        "outputId": "764cb34e-04f6-459e-c5f1-b44d12807cc1"
      },
      "outputs": [
        {
          "output_type": "stream",
          "name": "stdout",
          "text": [
            "soy una chica \n",
            "soy una chica hola hola \n",
            "soy una chica \n",
            "hola hola \n"
          ]
        }
      ],
      "execution_count": 7
    },
    {
      "cell_type": "code",
      "source": [
        "dist = 384400 #地球到月亮距離\n",
        "speed = 365 #馬赫速度365km/hr\n",
        "total_hours = dist // speed\n",
        "days = total_hours // 24\n",
        "hours = total_hours % 24\n",
        "print( \" 總共需要天數 \" )\n",
        "print( days )\n",
        "print( \" 小時數 \" )\n",
        "print( hours )\n"
      ],
      "metadata": {
        "trusted": true,
        "id": "058pjmicRhW4",
        "outputId": "95af7968-dabb-4b5d-bfe2-be2390b58ad9"
      },
      "outputs": [
        {
          "name": "stdout",
          "text": " 總共需要天數 \n43\n 小時數 \n21\n",
          "output_type": "stream"
        }
      ],
      "execution_count": null
    },
    {
      "cell_type": "code",
      "source": [
        "dist = 384400\n",
        "speed_per_min= 250 #每分鐘250km\n",
        "total_mins = dist // speed_per_min\n",
        "total_hours = total_mins // 60\n",
        "days = total_hours //24\n",
        "hours = total_hours %24\n",
        "mins = total_mins %60 #*****\n",
        "\n",
        "print (\" 總共需要天數 \")\n",
        "print (days)\n",
        "print(\" 小時數 \")\n",
        "print(hours)\n",
        "print(\" 分鐘數 \")\n",
        "print(mins)"
      ],
      "metadata": {
        "trusted": true,
        "id": "w1qDH-z-RhW4",
        "outputId": "b604dcab-f132-4dea-b8d8-0df41c00100b"
      },
      "outputs": [
        {
          "name": "stdout",
          "text": " 總共需要天數 \n1\n 小時數 \n1\n 分鐘數 \n37\n",
          "output_type": "stream"
        }
      ],
      "execution_count": null
    },
    {
      "cell_type": "code",
      "source": [
        "a = 10\n",
        "b = 18\n",
        "c = 5\n",
        "s = a + b + c\n",
        "print(s)\n",
        "s1 = 2*a+3-c\n",
        "print(s1)\n",
        "s2 = b * c + 20 / b\n",
        "print(int(s2))\n",
        "s3= a %c*b+10\n",
        "print(s3)\n",
        "s4= a**c-a*b*c\n",
        "print(s4)"
      ],
      "metadata": {
        "trusted": true,
        "id": "XAD08Ib4RhW5",
        "outputId": "a1915e34-688b-401f-8113-598c99066ba5"
      },
      "outputs": [
        {
          "name": "stdout",
          "text": "33\n18\n91\n10\n99100\n",
          "output_type": "stream"
        }
      ],
      "execution_count": null
    },
    {
      "cell_type": "code",
      "source": [
        "capital = 100000\n",
        "rate = 0.02\n",
        "year = 10\n",
        "total_money = capital * ( 1+rate ) ** year\n",
        "print ( int(total_money) )"
      ],
      "metadata": {
        "trusted": true,
        "id": "G_dT-r2tRhW5",
        "outputId": "9a114a0b-431c-422d-fc9f-57fadb0a98df"
      },
      "outputs": [
        {
          "name": "stdout",
          "text": "121899\n",
          "output_type": "stream"
        }
      ],
      "execution_count": null
    },
    {
      "cell_type": "code",
      "source": [
        "PI = 3.14\n",
        "r = 5\n",
        "area = PI*r*r\n",
        "print ( int(area) )"
      ],
      "metadata": {
        "trusted": true,
        "id": "nQTaewceRhW6",
        "outputId": "7fd75054-c828-463f-8131-e7720256cfca"
      },
      "outputs": [
        {
          "name": "stdout",
          "text": "78\n",
          "output_type": "stream"
        }
      ],
      "execution_count": null
    }
  ]
}